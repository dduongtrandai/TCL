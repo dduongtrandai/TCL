{
 "cells": [
  {
   "cell_type": "code",
   "execution_count": 1,
   "metadata": {},
   "outputs": [
    {
     "name": "stdout",
     "output_type": "stream",
     "text": [
      "WARNING:tensorflow:\n",
      "The TensorFlow contrib module will not be included in TensorFlow 2.0.\n",
      "For more information, please see:\n",
      "  * https://github.com/tensorflow/community/blob/master/rfcs/20180907-contrib-sunset.md\n",
      "  * https://github.com/tensorflow/addons\n",
      "  * https://github.com/tensorflow/io (for I/O related ops)\n",
      "If you depend on functionality not listed there, please file an issue.\n",
      "\n",
      "WARNING:tensorflow:From e:\\OneDrive - Hanoi University of Science and Technology\\github\\TCL\\tcl\\tcl.py:196: The name tf.trainable_variables is deprecated. Please use tf.compat.v1.trainable_variables instead.\n",
      "\n",
      "make savefolder: ./storage/temp...\n",
      "Generating source...\n",
      "Generating sensor signal...\n",
      "    cond thresh: 36.190674\n",
      "    L4: cond=303.126314\n",
      "    L4: cond=56.555460\n",
      "    L4: cond=171.889794\n",
      "    L4: cond=61.038865\n",
      "    L4: cond=40.923516\n",
      "    L4: cond=31.955147\n",
      "    L3: cond=166.553445\n",
      "    L3: cond=46.538361\n",
      "    L3: cond=413.509699\n",
      "    L3: cond=102.349694\n",
      "    L3: cond=470.571844\n",
      "    L3: cond=57.997376\n",
      "    L3: cond=31.264658\n",
      "    L2: cond=91.444432\n",
      "    L2: cond=60.877266\n",
      "    L2: cond=35.757592\n",
      "    L1: cond=60.887093\n",
      "    L1: cond=87.427231\n",
      "    L1: cond=45.493049\n",
      "    L1: cond=166.029907\n",
      "    L1: cond=29.062968\n",
      "    L0: cond=58.152693\n",
      "    L0: cond=81.768960\n",
      "    L0: cond=42.139281\n",
      "    L0: cond=89.550405\n",
      "    L0: cond=62.517179\n",
      "    L0: cond=331.682468\n",
      "    L0: cond=60.373177\n",
      "    L0: cond=22.563836\n"
     ]
    }
   ],
   "source": [
    "import os\n",
    "import pickle\n",
    "import shutil\n",
    "\n",
    "from subfunc.generate_artificial_data import generate_artificial_data\n",
    "from subfunc.preprocessing import pca\n",
    "from tcl.tcl_train import train\n",
    "\n",
    "\n",
    "# Parameters ==================================================\n",
    "# =============================================================\n",
    "\n",
    "# Data generation ---------------------------------------------\n",
    "random_seed = 0 # random seed\n",
    "num_comp = 20 # number of components (dimension)\n",
    "num_segment = 256 # number of segments\n",
    "num_segmentdata = 512 # number of data-points in each segment\n",
    "num_layer = 5 # number of layers of mixing-MLP\n",
    "\n",
    "# MLP ---------------------------------------------------------\n",
    "list_hidden_nodes = [40, 40, 40, 40, 20]\n",
    "# list of the number of nodes of each hidden layer of feature-MLP\n",
    "# [layer1, layer2, ..., layer(num_layer)]\n",
    "\n",
    "# Training ----------------------------------------------------\n",
    "initial_learning_rate = 0.01 # initial learning rate\n",
    "momentum = 0.9 # momentum parameter of SGD\n",
    "max_steps = int(7e5) # number of iterations (mini-batches)\n",
    "decay_steps = int(5e5) # decay steps (tf.train.exponential_decay)\n",
    "decay_factor = 0.1 # decay factor (tf.train.exponential_decay)\n",
    "batch_size = 512 # mini-batch size\n",
    "moving_average_decay = 0.999 # moving average decay of variables to be saved\n",
    "checkpoint_steps = 1e5 # interval to save checkpoint\n",
    "\n",
    "# for MLR initialization\n",
    "max_steps_init = int(7e4) # number of iterations (mini-batches) for initializing only MLR\n",
    "decay_steps_init = int(5e4) # decay steps for initializing only MLR\n",
    "\n",
    "# Other -------------------------------------------------------\n",
    "# # Note: save folder must be under ./storage\n",
    "train_dir = './storage/temp' # save directory (Caution!! this folder will be removed at first)\n",
    "saveparmpath = os.path.join(train_dir, 'parm.pkl') # file name to save parameters\n",
    "\n",
    "\n",
    "\n",
    "# =============================================================\n",
    "# =============================================================\n",
    "\n",
    "# Prepare save folder -----------------------------------------\n",
    "if train_dir.find(\"./storage/\") > -1:\n",
    "    if os.path.exists(train_dir):\n",
    "        print(\"delete savefolder: {0:s}...\".format(train_dir))\n",
    "        shutil.rmtree(train_dir)  # Remove folder\n",
    "    print(\"make savefolder: {0:s}...\".format(train_dir))\n",
    "    os.makedirs(train_dir)  # Make folder\n",
    "else:\n",
    "    assert False, \"savefolder looks wrong\"\n",
    "\n",
    "\n",
    "# Generate sensor signal --------------------------------------\n",
    "sensor, source, label = generate_artificial_data(num_comp=num_comp,\n",
    "                                                 num_segment=num_segment,\n",
    "                                                 num_segmentdata=num_segmentdata,\n",
    "                                                 num_layer=num_layer,\n",
    "                                                 random_seed=random_seed)"
   ]
  },
  {
   "cell_type": "code",
   "execution_count": 2,
   "metadata": {},
   "outputs": [
    {
     "data": {
      "text/plain": [
       "20"
      ]
     },
     "execution_count": 2,
     "metadata": {},
     "output_type": "execute_result"
    }
   ],
   "source": [
    "len(sensor)"
   ]
  },
  {
   "cell_type": "code",
   "execution_count": 3,
   "metadata": {},
   "outputs": [
    {
     "ename": "TypeError",
     "evalue": "'tuple' object is not callable",
     "output_type": "error",
     "traceback": [
      "\u001b[1;31m---------------------------------------------------------------------------\u001b[0m",
      "\u001b[1;31mTypeError\u001b[0m                                 Traceback (most recent call last)",
      "\u001b[1;32m~\\AppData\\Local\\Temp\\ipykernel_10804\\2505698466.py\u001b[0m in \u001b[0;36m<module>\u001b[1;34m\u001b[0m\n\u001b[1;32m----> 1\u001b[1;33m \u001b[0msensor\u001b[0m\u001b[1;33m.\u001b[0m\u001b[0mshape\u001b[0m\u001b[1;33m(\u001b[0m\u001b[1;33m)\u001b[0m\u001b[1;33m\u001b[0m\u001b[0m\n\u001b[0m",
      "\u001b[1;31mTypeError\u001b[0m: 'tuple' object is not callable"
     ]
    }
   ],
   "source": [
    "sensor.shape()"
   ]
  }
 ],
 "metadata": {
  "kernelspec": {
   "display_name": "myenv37",
   "language": "python",
   "name": "python3"
  },
  "language_info": {
   "codemirror_mode": {
    "name": "ipython",
    "version": 3
   },
   "file_extension": ".py",
   "mimetype": "text/x-python",
   "name": "python",
   "nbconvert_exporter": "python",
   "pygments_lexer": "ipython3",
   "version": "3.7.0"
  },
  "orig_nbformat": 4
 },
 "nbformat": 4,
 "nbformat_minor": 2
}
